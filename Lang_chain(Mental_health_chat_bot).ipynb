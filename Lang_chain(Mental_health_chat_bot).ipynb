{
  "cells": [
    {
      "cell_type": "markdown",
      "metadata": {
        "id": "EI-bU3rWMCza"
      },
      "source": [
        "# Mental health chatbot"
      ]
    },
    {
      "cell_type": "code",
      "execution_count": null,
      "metadata": {
        "id": "FO54nv84xqwg"
      },
      "outputs": [],
      "source": [
        "!pip install langchain-core langchain-community\n",
        "!pip install langchain_google_genai\n",
        "!pip install Ipython"
      ]
    },
    {
      "cell_type": "code",
      "execution_count": 20,
      "metadata": {
        "id": "eUAVelQe094a"
      },
      "outputs": [],
      "source": [
        "#import libaries\n",
        "import os\n",
        "import langchain_google_genai as genai\n",
        "from langchain.prompts import ChatPromptTemplate,MessagesPlaceholder\n",
        "from langchain.memory import ConversationBufferMemory,ConversationBufferWindowMemory\n",
        "from langchain_core.output_parsers import StrOutputParser\n",
        "from langchain_core.runnables import RunnablePassthrough\n",
        "from IPython.display import display, Markdown\n"
      ]
    },
    {
      "cell_type": "code",
      "execution_count": null,
      "metadata": {
        "id": "wxm0HNGD2KMe"
      },
      "outputs": [],
      "source": [
        "GEN_AI_API=\"YOUR_API_KEY\"\n",
        "os.environ[\"GOOGLE_API_KEY\"] = GEN_AI_API\n"
      ]
    },
    {
      "cell_type": "code",
      "execution_count": 22,
      "metadata": {
        "id": "nXe111aWEjw2"
      },
      "outputs": [],
      "source": [
        "model=genai.ChatGoogleGenerativeAI(\n",
        "    model=\"gemini-2.0-flash\",\n",
        "    temperature=0.5,\n",
        "    convert_system_message_to_human=True,\n",
        "    max_output_tokens=8192,\n",
        ")"
      ]
    },
    {
      "cell_type": "code",
      "execution_count": 23,
      "metadata": {
        "id": "vTmIQ0Q4FD_j"
      },
      "outputs": [],
      "source": [
        "#create System prompt\n",
        "SYSTEM_PROMPT = \"\"\"\n",
        "\n",
        "System Prompt:\n",
        "\n",
        "You are a multilingual mental health support chatbot designed to provide users with empathetic, evidence-based, and non-judgmental mental health assistance. Your primary role is to offer general mental health guidance, self-care strategies, and resources while strictly adhering to medical and psychological best practices.\n",
        "\n",
        " Guidelines:\n",
        "1. Domain Restriction:\n",
        "   - Stay strictly within the mental health domain (e.g., stress, anxiety, depression, coping strategies).\n",
        "   - Do not provide medical diagnoses or prescribe medications.\n",
        "   - Encourage professional help when necessary.\n",
        "\n",
        "2. Language Support:\n",
        "   - Respond in the user’s preferred language while maintaining accuracy and clarity.\n",
        "   - Support languages such as English, Spanish, French, German, Chinese, Arabic, and more.\n",
        "\n",
        "3. Safety & Ethics:\n",
        "   - If a user expresses suicidal thoughts or self-harm tendencies, encourage them to reach out to a mental health professional, emergency services, or trusted individuals.\n",
        "   - Avoid providing crisis intervention—redirect to official helplines or emergency contacts.\n",
        "\n",
        "4. Tone & Style:\n",
        "   - Use a compassionate, calm, and supportive tone.\n",
        "   - Provide scientifically backed coping strategies (e.g., deep breathing, mindfulness, CBT techniques).\n",
        "   - Avoid judgmental or dismissive responses.\n",
        "\n",
        "5. Limitations:\n",
        "   - Clearly state that you are not a substitute for professional therapy or medical care.\n",
        "   - Redirect users to licensed mental health professionals when needed.\n",
        "\n",
        " Example Scenarios & Responses:\n",
        "\n",
        "1. User: I'm feeling really anxious and can't sleep. What should I do?\n",
        "   Chatbot: I'm sorry you're feeling this way. Anxiety can make it hard to rest. Have you tried deep breathing exercises or a relaxing bedtime routine? If this persists, consider reaching out to a therapist for personalized support.\n",
        "\n",
        "2. User: I feel like I don't want to live anymore.\n",
        "   Chatbot: I'm really sorry you're feeling this way. You're not alone, and there are people who care about you. Please consider reaching out to a trusted friend, family member, or a mental health professional. If you're in immediate danger, please call emergency services or a crisis helpline in your country. Would you like me to provide a helpline number for your location?\n",
        "\n",
        "3. User: Can you prescribe medication for my depression?\n",
        "   Chatbot: I'm not a medical professional and cannot prescribe medication. However, I recommend speaking to a licensed doctor or psychiatrist who can assess your condition and guide you appropriately.\n",
        "\n",
        "Your mission is to be a reliable, multilingual, and ethically responsible mental health support assistant. Ensure every response aligns with best practices in psychological well-being while respecting user safety and privacy.\n",
        "\n",
        "\"\"\""
      ]
    },
    {
      "cell_type": "code",
      "execution_count": 24,
      "metadata": {
        "id": "YGyIbW7PGxCZ"
      },
      "outputs": [],
      "source": [
        "#setup both memory\n",
        "#standard conversation menory keeps full history\n",
        "buffer_memory = ConversationBufferMemory(\n",
        "    memory_key=\"chat_history\",\n",
        "    return_messages=True,\n",
        "    input_key=\"input\"\n",
        ")\n",
        "#window memory\n",
        "window_memory=ConversationBufferWindowMemory(\n",
        "    memory_key=\"recent_history\",\n",
        "    return_messages=True,\n",
        "    input_key=\"input\",\n",
        "    k=10 #only keeps last 5 conversations\n",
        ")"
      ]
    },
    {
      "cell_type": "code",
      "execution_count": 25,
      "metadata": {
        "id": "b_gAJaasHz7k"
      },
      "outputs": [],
      "source": [
        "#create prompt template with system prompt\n",
        "prompt=ChatPromptTemplate.from_messages(\n",
        "    [\n",
        "        (\"system\",SYSTEM_PROMPT),\n",
        "        MessagesPlaceholder(variable_name=\"chat_history\"),\n",
        "        MessagesPlaceholder(variable_name=\"recent_history\"),\n",
        "        (\"human\", \"{input}\")\n",
        "    ])\n",
        "\n"
      ]
    },
    {
      "cell_type": "code",
      "execution_count": 28,
      "metadata": {
        "id": "Cp-AHqY5JHJ_"
      },
      "outputs": [],
      "source": [
        "#building chain using LCEL\n",
        "def get_chat_history(inputs):\n",
        "    return buffer_memory.load_memory_variables({})[\"chat_history\"]\n",
        "\n",
        "def get_recent_history(inputs):\n",
        "    return window_memory.load_memory_variables({})[\"recent_history\"]\n",
        "\n",
        "chain = (\n",
        "    {\n",
        "        \"chat_history\": get_chat_history,\n",
        "        \"recent_history\": get_recent_history,\n",
        "        \"input\": RunnablePassthrough()\n",
        "    }\n",
        "    | prompt\n",
        "    | model\n",
        "    | StrOutputParser()\n",
        ")"
      ]
    },
    {
      "cell_type": "code",
      "execution_count": 32,
      "metadata": {
        "id": "NSWgThT4K2rm"
      },
      "outputs": [],
      "source": [
        "# Define a function to handle the conversation\n",
        "def chat_with_bot(user_input):\n",
        "    # Get memory history from buffer and window memories\n",
        "    chat_history = buffer_memory.load_memory_variables({})[\"chat_history\"]\n",
        "    recent_history = window_memory.load_memory_variables({})[\"recent_history\"]\n",
        "\n",
        "    # Run the chain with user input and histories\n",
        "    response = chain.invoke({\n",
        "        \"input\": user_input,\n",
        "        \"chat_history\": chat_history,\n",
        "        \"recent_history\": recent_history\n",
        "    })\n",
        "\n",
        "    # Save context to memory buffers\n",
        "    buffer_memory.save_context({\"input\": user_input}, {\"response\": response})\n",
        "    window_memory.save_context({\"input\": user_input}, {\"response\": response})\n",
        "\n",
        "    return response\n"
      ]
    },
    {
      "cell_type": "code",
      "execution_count": null,
      "metadata": {
        "id": "AmY5NbrDLtfv"
      },
      "outputs": [],
      "source": [
        "!pip install -q gradio"
      ]
    },
    {
      "cell_type": "code",
      "execution_count": 34,
      "metadata": {
        "colab": {
          "base_uri": "https://localhost:8080/",
          "height": 854
        },
        "id": "du_5XHmXMaVn",
        "outputId": "31df82d1-6351-47c4-e4a5-6832847b69f7"
      },
      "outputs": [
        {
          "name": "stderr",
          "output_type": "stream",
          "text": [
            "<ipython-input-34-031fb18c5a66>:43: UserWarning: You have not specified a value for the `type` parameter. Defaulting to the 'tuples' format for chatbot messages, but this is deprecated and will be removed in a future version of Gradio. Please set type='messages' instead, which uses openai-style dictionaries with 'role' and 'content' keys.\n",
            "  chatbot = gr.Chatbot(\n"
          ]
        },
        {
          "name": "stdout",
          "output_type": "stream",
          "text": [
            "Colab notebook detected. This cell will run indefinitely so that you can see errors and logs. To turn off, set debug=False in launch().\n",
            "* Running on public URL: https://bf566021090948f9f9.gradio.live\n",
            "\n",
            "This share link expires in 1 week. For free permanent hosting and GPU upgrades, run `gradio deploy` from the terminal in the working directory to deploy to Hugging Face Spaces (https://huggingface.co/spaces)\n"
          ]
        },
        {
          "data": {
            "text/html": [
              "<div><iframe src=\"https://bf566021090948f9f9.gradio.live\" width=\"100%\" height=\"500\" allow=\"autoplay; camera; microphone; clipboard-read; clipboard-write;\" frameborder=\"0\" allowfullscreen></iframe></div>"
            ],
            "text/plain": [
              "<IPython.core.display.HTML object>"
            ]
          },
          "metadata": {},
          "output_type": "display_data"
        },
        {
          "name": "stderr",
          "output_type": "stream",
          "text": [
            "/usr/local/lib/python3.11/dist-packages/langchain_google_genai/chat_models.py:390: UserWarning: Convert_system_message_to_human will be deprecated!\n",
            "  warnings.warn(\"Convert_system_message_to_human will be deprecated!\")\n",
            "/usr/local/lib/python3.11/dist-packages/langchain_google_genai/chat_models.py:390: UserWarning: Convert_system_message_to_human will be deprecated!\n",
            "  warnings.warn(\"Convert_system_message_to_human will be deprecated!\")\n",
            "/usr/local/lib/python3.11/dist-packages/langchain_google_genai/chat_models.py:390: UserWarning: Convert_system_message_to_human will be deprecated!\n",
            "  warnings.warn(\"Convert_system_message_to_human will be deprecated!\")\n",
            "/usr/local/lib/python3.11/dist-packages/langchain_google_genai/chat_models.py:390: UserWarning: Convert_system_message_to_human will be deprecated!\n",
            "  warnings.warn(\"Convert_system_message_to_human will be deprecated!\")\n",
            "/usr/local/lib/python3.11/dist-packages/langchain_google_genai/chat_models.py:390: UserWarning: Convert_system_message_to_human will be deprecated!\n",
            "  warnings.warn(\"Convert_system_message_to_human will be deprecated!\")\n"
          ]
        },
        {
          "name": "stdout",
          "output_type": "stream",
          "text": [
            "Keyboard interruption in main thread... closing server.\n",
            "Killing tunnel 127.0.0.1:7860 <> https://bf566021090948f9f9.gradio.live\n"
          ]
        }
      ],
      "source": [
        "# Create Simple Gradio Interface\n",
        "import gradio as gr\n",
        "\n",
        "# Chat history list to store conversation\n",
        "chat_history = []\n",
        "\n",
        "# Add welcome message to chat history\n",
        "welcome_message = \"**Assalam-o-Alaikum!** 👋 i am your mental health support companion. You can talk to me in English, Urdu, or Roman Urdu - I'll respond in the same language you use. How are you feeling today?\"\n",
        "chat_history.append((\"\", welcome_message))\n",
        "\n",
        "# Save the welcome message to both memories\n",
        "buffer_memory.save_context(\n",
        "    {\"input\": \"Hello\"},\n",
        "    {\"output\": welcome_message}\n",
        ")\n",
        "window_memory.save_context(\n",
        "    {\"input\": \"Hello\"},\n",
        "    {\"output\": welcome_message}\n",
        ")\n",
        "\n",
        "\n",
        "# Function to process user input and generate response\n",
        "def respond(message, history):\n",
        "    if not message:\n",
        "        return \"\", history\n",
        "\n",
        "    if message.lower() in [\"exit\", \"quit\", \"bye\", \"khuda hafiz\", \"allah hafiz\"]:\n",
        "        farewell = \"**Allah Hafiz!** Take care of yourself. _Remember, seeking help is a sign of strength._ 💙\"\n",
        "        history.append((message, farewell))\n",
        "        return \"\", history\n",
        "\n",
        "    # Process the message through our chatbot\n",
        "    response = chat_with_bot(message)\n",
        "\n",
        "    # Add to history and return\n",
        "    history.append((message, response))\n",
        "    return \"\", history\n",
        "\n",
        "# Create the simple Gradio interface\n",
        "with gr.Blocks() as demo:\n",
        "    gr.Markdown(\"# Mental Health Chatbot - Hassan ka Dost\")\n",
        "\n",
        "    chatbot = gr.Chatbot(\n",
        "        chat_history,\n",
        "        height=400\n",
        "    )\n",
        "\n",
        "    msg = gr.Textbox(\n",
        "        show_label=False,\n",
        "        placeholder=\"Type your message here...\"\n",
        "    )\n",
        "\n",
        "    with gr.Row():\n",
        "        submit = gr.Button(\"Send\")\n",
        "        clear = gr.Button(\"Clear\")\n",
        "\n",
        "    gr.Markdown(\"This chatbot provides mental health support in English, Urdu, or Roman Urdu.\")\n",
        "\n",
        "    # Connect components\n",
        "    msg.submit(respond, [msg, chatbot], [msg, chatbot])\n",
        "    submit.click(respond, [msg, chatbot], [msg, chatbot])\n",
        "    clear.click(lambda: (chat_history[:1], \"\"), None, [chatbot, msg])\n",
        "\n",
        "\n",
        "    demo.launch(share=True,debug=True)\n",
        "\n"
      ]
    }
  ],
  "metadata": {
    "colab": {
      "provenance": []
    },
    "kernelspec": {
      "display_name": "Python 3",
      "name": "python3"
    },
    "language_info": {
      "name": "python"
    }
  },
  "nbformat": 4,
  "nbformat_minor": 0
}
